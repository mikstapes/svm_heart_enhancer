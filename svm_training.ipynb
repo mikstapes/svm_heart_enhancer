{
 "cells": [
  {
   "cell_type": "markdown",
   "id": "9f7c9107-744e-4ad8-841c-469ef874befa",
   "metadata": {},
   "source": [
    "# Description\n",
    "\n",
    "notebook to generate training and test sets for building mouse heart SVM model"
   ]
  },
  {
   "cell_type": "markdown",
   "id": "5dfe750b-bf1c-4562-8fea-92d088f180c8",
   "metadata": {},
   "source": [
    "# Setup"
   ]
  },
  {
   "cell_type": "markdown",
   "id": "8699d75a-89d1-4e7c-b23c-b0aabb22d8e4",
   "metadata": {},
   "source": [
    "load r-kernel to use in the same notebook"
   ]
  },
  {
   "cell_type": "code",
   "execution_count": null,
   "id": "001555cf-6375-4c20-bbb9-a5f71ca84a34",
   "metadata": {
    "tags": []
   },
   "outputs": [],
   "source": [
    "%load_ext rpy2.ipython"
   ]
  },
  {
   "cell_type": "code",
   "execution_count": 9,
   "id": "1beb46db-4273-4cdd-8886-f058de3beb05",
   "metadata": {
    "execution": {
     "iopub.execute_input": "2023-12-25T13:43:40.423165Z",
     "iopub.status.busy": "2023-12-25T13:43:40.422719Z",
     "iopub.status.idle": "2023-12-25T13:43:40.442289Z",
     "shell.execute_reply": "2023-12-25T13:43:40.440612Z",
     "shell.execute_reply.started": "2023-12-25T13:43:40.423128Z"
    },
    "tags": []
   },
   "outputs": [
    {
     "name": "stdout",
     "output_type": "stream",
     "text": [
      "[1] \"/home/phan/R/x86_64-pc-linux-gnu-library/4.2\"\n",
      "[2] \"/pkg/R-4.2.1-0/lib/R/library\"                \n"
     ]
    }
   ],
   "source": [
    "%%R\n",
    "\n",
    ".libPaths()"
   ]
  },
  {
   "cell_type": "markdown",
   "id": "151e270c-2fbd-4f24-8180-6ccbf050a7fd",
   "metadata": {},
   "source": [
    "# Prepare training data\n",
    "\n",
    "- ATAC peaks from ENCODE and in house (mm10) for positive and neg sets.\n",
    "    - Take the common intervals from all samples w bedtools multiinter before filtering"
   ]
  },
  {
   "cell_type": "code",
   "execution_count": null,
   "id": "1a064725-cdc1-4b17-b968-050e26baa1f6",
   "metadata": {},
   "outputs": [],
   "source": [
    "%%bash\n",
    "\n",
    "BED=../data/svm/bed\n",
    "\n",
    "## get all common ranges from all positive & negative peaks \n",
    "\n",
    "bedtools multiinter -i \\\n",
    "\"$BED\"/E105H_ATAC.mm10.narrowPeak \"$BED\"/E115H_ATAC.mm10.narrowPeak \\\n",
    "$BED/ENCSR451NAE.mm10.narrowPeak \\\n",
    "$BED/ENCSR552ABC.mm10.narrowPeak \\\n",
    "$BED/ENCSR652CNN.mm10.narrowPeak \\\n",
    "$BED/ENCSR068YGC.mm10.narrowPeak | awk 'BEGIN{OFS=\"\\t\"} $4 > 1 {print $1, $2, $3, $4}' > $BED/pos_set_multiinter.mm10.bed\n",
    "\n",
    "\n",
    "bedtools multiinter -i \\\n",
    "\"$BED\"/G4-LIF.mm10.narrowPeak \\\n",
    "\"$BED\"/ENCSR088UYE.mm10.narrowPeak \\\n",
    "$BED/ENCSR154BXN.mm10.narrowPeak \\\n",
    "$BED/ENCSR559FAJ.mm10.narrowPeak \\\n",
    "$BED/ENCSR302LIV.mm10.narrowPeak \\\n",
    "$BED/ENCSR551WBK.mm10.narrowPeak | awk 'BEGIN{OFS=\"\\t\"} $4 > 1 {print $1, $2, $3, $4}' > $BED/neg_set_multiinter.mm10.bed"
   ]
  },
  {
   "cell_type": "markdown",
   "id": "b455d495-cb54-44e5-b58c-dd87058a6106",
   "metadata": {},
   "source": [
    "[write peaks filtering and pos/neg training strategis here ...]"
   ]
  },
  {
   "cell_type": "markdown",
   "id": "8cbc4d09-b02a-473b-bac5-e51381e79eee",
   "metadata": {},
   "source": [
    "## Get test set & write fasta"
   ]
  },
  {
   "cell_type": "code",
   "execution_count": null,
   "id": "25716fe7-c44c-4972-a152-22a2b920f6a4",
   "metadata": {},
   "outputs": [],
   "source": [
    "## get genome files for sequences\n",
    "\n",
    "! twoBitToFa /project/MDL_ChIPseq/data/genome/assembly/mm10.2bit ../data/svm/fasta/mm10.genome.fa"
   ]
  },
  {
   "cell_type": "code",
   "execution_count": 18,
   "id": "4a948d53-ae4b-4cda-96c7-d380e6f3669d",
   "metadata": {
    "execution": {
     "iopub.execute_input": "2023-12-27T08:09:12.554831Z",
     "iopub.status.busy": "2023-12-27T08:09:12.554145Z",
     "iopub.status.idle": "2023-12-27T08:09:21.809636Z",
     "shell.execute_reply": "2023-12-27T08:09:21.807503Z",
     "shell.execute_reply.started": "2023-12-27T08:09:12.554771Z"
    },
    "tags": []
   },
   "outputs": [],
   "source": [
    "%%bash\n",
    "BED=../data/svm/bed\n",
    "FASTA=../data/svm/fasta\n",
    "\n",
    "# get chr1&chr2 as test set\n",
    "ls $BED/*500*bed | sed -e 's/\\.mm10\\.bed//' \\\n",
    "| parallel \"cat {}.mm10.bed | egrep -w 'chr1|chr2' | gzip -c > {}_test.mm10.bed.gz\"\n",
    "\n",
    "ls $BED/*500*bed | sed -e 's/\\.mm10\\.bed//' \\\n",
    "| parallel \"cat {}.mm10.bed | egrep -w -v 'chr1|chr2' | gzip -c > {}_train.mm10.bed.gz\"\n",
    "\n",
    "# get fasta from bed\n",
    "find $BED -name '*gz' -printf '%f\\n'| \\\n",
    "sed -e 's/\\.mm10\\.bed\\.gz//' | \\\n",
    "parallel \"bedtools getfasta -fi '$FASTA'/mm10.genome.fa -bed '$BED'/{}.mm10.bed.gz > '$FASTA'/{}.mm10.fa\""
   ]
  },
  {
   "cell_type": "markdown",
   "id": "33083484-f371-4fca-ba4a-daa39b9f0227",
   "metadata": {},
   "source": [
    "# Train SVM"
   ]
  },
  {
   "cell_type": "markdown",
   "id": "e7ebf72f-e5b1-4854-a623-7560e47b8768",
   "metadata": {},
   "source": [
    "## Hyperparameter tuning with new training set"
   ]
  },
  {
   "cell_type": "code",
   "execution_count": null,
   "id": "30bed1d1-7fed-4ce4-8b0b-86af86381389",
   "metadata": {},
   "outputs": [],
   "source": [
    "#!/bin/bash\n",
    "\n",
    "## script SVM_hypptuning.sh sent to mxqsub for heavy computing ##\n",
    "\n",
    "HERE=$(realpath ..)\n",
    "BED=$HERE/data/svm/bed\n",
    "FASTA=$HERE/data/svm/fasta\n",
    "OUT=$HERE/data/svm/txt\n",
    "GKM=$HERE/code/dev/gkmexplain/lsgkm-svr/src/gkmtrain\n",
    "\n",
    "trainP=$FASTA/pos_set_filtered_500bp_train.mm10.fa\n",
    "trainN=$FASTA/neg_set_GCR-matched_500bp_train.mm10.fa\n",
    "\n",
    "# Define the arrays of c & g\n",
    "c=(20 10 5 1)\n",
    "g=(5 2 1 0.1)\n",
    "\n",
    "mxqsub --stderr=_logs/gkmtrain_5cv_t3_hpptuning.stderr --group-name=gkmtrain --threads=64 --memory=100G --tmpdir=20G -t 1440 \\\n",
    "parallel -j 4  -v \" '$GKM' -T 16 -t 3 -c {1} -g {2} -x5 -i 1 '$trainP' '$trainN' '$OUT'/lsgkm_kernel3_500_c{1}_g{2} > ./_logs/train_t3_500_c{1}_g{2}.log\" ::: \"${c[@]}\" ::: \"${g[@]} \""
   ]
  },
  {
   "cell_type": "code",
   "execution_count": 8,
   "id": "50c63ec3-42d0-4434-9f28-95ac0344384f",
   "metadata": {
    "execution": {
     "iopub.execute_input": "2024-03-12T15:41:37.067184Z",
     "iopub.status.busy": "2024-03-12T15:41:37.066532Z",
     "iopub.status.idle": "2024-03-12T15:41:37.090683Z",
     "shell.execute_reply": "2024-03-12T15:41:37.089085Z",
     "shell.execute_reply.started": "2024-03-12T15:41:37.067135Z"
    },
    "tags": []
   },
   "outputs": [],
   "source": [
    "from sklearn.metrics import roc_auc_score, average_precision_score\n",
    "import re\n",
    "import seaborn as sns\n",
    "import matplotlib.pyplot as plt\n",
    "%matplotlib inline\n",
    "\n",
    "## wrappers to get AUC scores from cross-validation output\n",
    "def get_scores(cvpred, label):\n",
    "    scores = []\n",
    "    with open(cvpred, 'r') as f:\n",
    "        for line in f:\n",
    "            fields = line.strip().split('\\t')\n",
    "            if label == 'pos' and fields[2] == '1':\n",
    "                scores.append(float(fields[1]))\n",
    "            elif label == 'neg' and fields[2] == '-1':\n",
    "                scores.append(float(fields[1]))\n",
    "    return scores\n",
    "\n",
    "\n",
    "def roc_auc_wrapper(cvpred):\n",
    "    pos_preds = get_scores(cvpred, label = 'pos')                      \n",
    "    neg_preds = get_scores(cvpred, label = 'neg')\n",
    "    \n",
    "    labels = [1 for x in pos_preds]+[0 for x in neg_preds]\n",
    "    auc = roc_auc_score(y_true=labels, y_score = pos_preds+neg_preds)\n",
    "    return auc"
   ]
  },
  {
   "cell_type": "code",
   "execution_count": 9,
   "id": "9172eb8c-2cbd-45f7-8825-c9180b0d93c9",
   "metadata": {
    "execution": {
     "iopub.execute_input": "2024-03-12T15:41:41.308266Z",
     "iopub.status.busy": "2024-03-12T15:41:41.307628Z",
     "iopub.status.idle": "2024-03-12T15:41:42.842148Z",
     "shell.execute_reply": "2024-03-12T15:41:42.840835Z",
     "shell.execute_reply.started": "2024-03-12T15:41:41.308216Z"
    },
    "tags": []
   },
   "outputs": [],
   "source": [
    "# List of 'c' and 'g' values\n",
    "c_values = [1, 5, 10, 20]\n",
    "g_values = [0, 1, 2, 5]\n",
    "\n",
    "# Dictionary to store the computed scores\n",
    "score_dict = {}\n",
    "\n",
    "# Compute ROC AUC score for each 'c' and 'g' pair\n",
    "for c in c_values:\n",
    "    for g in g_values:\n",
    "        cvpred_file = f\"../data/svm/txt/lsgkm_kernel3_500_c{c}_g{g}.cvpred.1.txt\"\n",
    "        score = roc_auc_wrapper(cvpred_file)\n",
    "        score_dict[(c, g)] = score\n",
    "\n",
    "# Create a matrix of scores for heatmap\n",
    "score_matrix = []\n",
    "for c in c_values:\n",
    "    row = [score_dict[(c, g)] for g in g_values]\n",
    "    score_matrix.append(row)"
   ]
  },
  {
   "cell_type": "code",
   "execution_count": 12,
   "id": "ada84ed0-8f8f-4f5b-b016-8bcff01cc363",
   "metadata": {
    "execution": {
     "iopub.execute_input": "2024-03-12T15:42:57.149343Z",
     "iopub.status.busy": "2024-03-12T15:42:57.148776Z",
     "iopub.status.idle": "2024-03-12T15:42:57.765559Z",
     "shell.execute_reply": "2024-03-12T15:42:57.764635Z",
     "shell.execute_reply.started": "2024-03-12T15:42:57.149303Z"
    },
    "tags": []
   },
   "outputs": [
    {
     "data": {
      "image/png": "[encoded data removed]",
      "text/plain": [
       "<Figure size 720x720 with 2 Axes>"
      ]
     },
     "metadata": {
      "needs_background": "light"
     },
     "output_type": "display_data"
    }
   ],
   "source": [
    "# Plot heatmap\n",
    "plt.figure(figsize=(10,10))\n",
    "\n",
    "sns.heatmap(score_matrix, annot=True, fmt=\".4f\", cmap=\"YlGnBu\",\n",
    "            xticklabels=g_values, yticklabels=c_values)\n",
    "\n",
    "\n",
    "plt.xlabel(\"gamma\")\n",
    "plt.ylabel(\"C\")\n",
    "plt.title(\"AUC comparison for rbf kernel\")\n",
    "plt.savefig('../figures/AUC_grid_cv5_rbf_c_gamma.pdf', dpi=300, transparent=True)\n",
    "plt.show()"
   ]
  },
  {
   "cell_type": "markdown",
   "id": "058c4a35-d066-4ddb-b3af-098f35063692",
   "metadata": {},
   "source": [
    "## Training SVM\n",
    "From grid-search, move on with c=10 & gamma=2"
   ]
  },
  {
   "cell_type": "code",
   "execution_count": null,
   "id": "043a32b8-a961-46dd-8279-7fddc9c6958d",
   "metadata": {
    "tags": []
   },
   "outputs": [],
   "source": [
    "%%bash\n",
    "\n",
    "HERE=$(realpath ..)\n",
    "FASTA=$HERE/data/svm/fasta\n",
    "OUT=$HERE/data/svm/\n",
    "GKM=$HERE/code/dev/gkmexplain/lsgkm-svr/src/gkmtrain\n",
    "\n",
    "\n",
    "[[ -e $OUT/lsgkm_rbf_c10_g2.model.txt ]] || \\\n",
    "$GKM -v 1 -T 16 -t 3 -c 10 -g 2 $FASTA/pos_set_filtered_500bp_train.mm10.fa $FASTA/neg_set_GCR-matched_500bp_train.mm10.fa $OUT/lsgkm_rbf_c10_g2"
   ]
  },
  {
   "cell_type": "code",
   "execution_count": null,
   "id": "87905bc0-ca43-4169-abed-bc9eb37b22a1",
   "metadata": {},
   "outputs": [],
   "source": []
  },
  {
   "cell_type": "markdown",
   "id": "eecd8a96-9349-44c5-a366-ea4f9ec8b37d",
   "metadata": {},
   "source": [
    "## Model eval on held out chroms"
   ]
  },
  {
   "cell_type": "code",
   "execution_count": null,
   "id": "42f9cffb-cf4a-467c-a33a-f0955ad62f3f",
   "metadata": {
    "tags": []
   },
   "outputs": [],
   "source": [
    "%%bash\n",
    "\n",
    "HERE=$(realpath ..)\n",
    "FASTA=$HERE/data/svm/fasta\n",
    "OUT=$HERE/data/svm/txt\n",
    "GKM=$HERE/code/dev/gkmexplain/lsgkm-svr/src/gkmpredict\n",
    "MODEL=$HERE/data/svm/lsgkm_rbf_c10_g2.model.txt\n",
    "\n",
    "[[ -e $OUT/test_rbf_c10_g2_pos.txt ]] || $GKM -T 16 $FASTA/pos_set_filtered_500bp_test.mm10.fa $MODEL  $OUT/test_rbf_c10_g2_pos.txt\n",
    "[[ -e $OUT/test_rbf_c10_g2_neg.txt ]] || $GKM -T 16 $FASTA/neg_set_GCR-matched_500bp_test.mm10.fa $MODEL  $OUT/test_rbf_c10_g2_neg.txt"
   ]
  },
  {
   "cell_type": "markdown",
   "id": "50b83e10-0515-4ca4-a3d5-1ce322c64f2e",
   "metadata": {},
   "source": [
    "### weighted RBF"
   ]
  },
  {
   "cell_type": "code",
   "execution_count": null,
   "id": "d4d2a42f-6bb2-4bcd-bea6-787838cc4062",
   "metadata": {
    "tags": []
   },
   "outputs": [],
   "source": [
    "%%bash\n",
    "\n",
    "HERE=$(realpath ..)\n",
    "FASTA=$HERE/data/svm/fasta\n",
    "OUT=$HERE/data/svm/txt\n",
    "GKM=$HERE/code/dev/gkmexplain/lsgkm-svr/src/gkmpredict\n",
    "MODEL=$HERE/data/svm/lsgkm_wrbf_c10_g2.model.txt\n",
    "\n",
    "[[ -e $OUT/test_wrbf_c10_g2_pos.txt ]] || $GKM -T 16 $FASTA/pos_set_filtered_500bp_test.mm10.fa $MODEL  $OUT/test_wrbf_c10_g2_pos.txt\n",
    "[[ -e $OUT/test_wrbf_c10_g2_neg.txt ]] || $GKM -T 16 $FASTA/neg_set_GCR-matched_500bp_test.mm10.fa $MODEL  $OUT/test_wrbf_c10_g2_neg.txt"
   ]
  },
  {
   "cell_type": "code",
   "execution_count": 2,
   "id": "05ba8192-de95-4de0-a867-94908664bc12",
   "metadata": {
    "execution": {
     "iopub.execute_input": "2024-03-12T15:37:47.095454Z",
     "iopub.status.busy": "2024-03-12T15:37:47.094857Z",
     "iopub.status.idle": "2024-03-12T15:38:05.419506Z",
     "shell.execute_reply": "2024-03-12T15:38:05.417734Z",
     "shell.execute_reply.started": "2024-03-12T15:37:47.095429Z"
    },
    "tags": []
   },
   "outputs": [],
   "source": [
    "from sklearn.metrics import roc_auc_score,roc_curve, RocCurveDisplay, average_precision_score\n",
    "import re\n",
    "import seaborn as sns\n",
    "import matplotlib.pyplot as plt\n",
    "%matplotlib inline"
   ]
  },
  {
   "cell_type": "code",
   "execution_count": 5,
   "id": "7d135f7d-0642-4b1f-840f-8145870289c3",
   "metadata": {
    "execution": {
     "iopub.execute_input": "2024-03-12T15:40:42.055311Z",
     "iopub.status.busy": "2024-03-12T15:40:42.054868Z",
     "iopub.status.idle": "2024-03-12T15:40:42.065906Z",
     "shell.execute_reply": "2024-03-12T15:40:42.064127Z",
     "shell.execute_reply.started": "2024-03-12T15:40:42.055284Z"
    },
    "tags": []
   },
   "outputs": [],
   "source": [
    "def plot_roc2(sample_name):\n",
    "    # Define file paths based on sample_name\n",
    "    pos_file = f\"../data/svm/txt/{sample_name}_pos.txt\"\n",
    "    neg_file = f\"../data/svm/txt/{sample_name}_neg.txt\"\n",
    "    \n",
    "    # Read data from files\n",
    "    pos_preds = [float(x.rstrip().split(\"\\t\")[1]) for x in open(pos_file)]\n",
    "    neg_preds = [float(x.rstrip().split(\"\\t\")[1]) for x in open(neg_file)]\n",
    "    \n",
    "    # Generate labels\n",
    "    labels = [1] * len(pos_preds) + [0] * len(neg_preds)\n",
    "    \n",
    "    # Concatenate predictions\n",
    "    #y_pred = pos_preds + neg_preds\n",
    "    \n",
    "    # Create ROC curve\n",
    "    #fpr, tpr, _ = roc_curve(labels, y_pred)\n",
    "    ax=plt.gca()\n",
    "    \n",
    "    RocCurveDisplay.from_predictions(y_true = labels, \n",
    "                                    y_pred =  pos_preds + neg_preds,\n",
    "                                    name = sample_name, ax=ax)\n",
    "    \n",
    "    # Assign color from seaborn palette\n",
    "    #color = sns.color_palette(palette_name)[len(os.listdir(\"../data/svm/txt\")) - 1]\n",
    "    \n",
    "    # Plot ROC curve\n",
    "    #plt.plot(fpr, tpr, label=sample_name)\n",
    "    plt.xlabel(\"False Positive Rate\")\n",
    "    plt.ylabel(\"True Positive Rate\")\n",
    "    plt.title(\"ROC Curve\")\n",
    "    plt.legend(loc=\"lower right\")"
   ]
  },
  {
   "cell_type": "code",
   "execution_count": 6,
   "id": "b0ff82f8-6a59-4ab7-ac35-ad06f9a8bcf4",
   "metadata": {
    "execution": {
     "iopub.execute_input": "2024-03-12T15:40:50.349916Z",
     "iopub.status.busy": "2024-03-12T15:40:50.349445Z",
     "iopub.status.idle": "2024-03-12T15:40:50.828297Z",
     "shell.execute_reply": "2024-03-12T15:40:50.826825Z",
     "shell.execute_reply.started": "2024-03-12T15:40:50.349882Z"
    }
   },
   "outputs": [
    {
     "data": {
      "image/png": "[encoded data removed]",
      "text/plain": [
       "<Figure size 864x576 with 1 Axes>"
      ]
     },
     "metadata": {
      "needs_background": "light"
     },
     "output_type": "display_data"
    }
   ],
   "source": [
    "plt.figure(figsize=(12, 8))\n",
    "plot_roc2(\"test_wrbf_c10_g2\")\n",
    "plot_roc2(\"test_rbf_c10_g2\")\n",
    "plt.plot([0, 1], [0, 1], 'k--')  # Plot diagonal line\n",
    "plt.savefig('../figures/SVM_test_held-out_chrom_mmus.pdf', dpi = 300)\n",
    "plt.show()"
   ]
  }
 ],
 "metadata": {
  "kernelspec": {
   "display_name": "Python 3 (ipykernel)",
   "language": "python",
   "name": "python3"
  },
  "language_info": {
   "codemirror_mode": {
    "name": "ipython",
    "version": 3
   },
   "file_extension": ".py",
   "mimetype": "text/x-python",
   "name": "python",
   "nbconvert_exporter": "python",
   "pygments_lexer": "ipython3",
   "version": "3.9.10"
  }
 },
 "nbformat": 4,
 "nbformat_minor": 5
}
