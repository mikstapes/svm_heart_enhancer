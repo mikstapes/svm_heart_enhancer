{
 "cells": [
  {
   "cell_type": "code",
   "execution_count": 1,
   "id": "ab7fee7a-2afe-4c31-837c-2ad4be9d45bd",
   "metadata": {
    "execution": {
     "iopub.execute_input": "2024-02-09T14:04:04.443589Z",
     "iopub.status.busy": "2024-02-09T14:04:04.442903Z",
     "iopub.status.idle": "2024-02-09T14:04:04.618809Z",
     "shell.execute_reply": "2024-02-09T14:04:04.617134Z",
     "shell.execute_reply.started": "2024-02-09T14:04:04.443454Z"
    }
   },
   "outputs": [
    {
     "name": "stdout",
     "output_type": "stream",
     "text": [
      "9686\n"
     ]
    }
   ],
   "source": [
    "%%bash\n",
    "\n",
    "grep '>' ../data/svm/fasta/pos_set_filtered_500bp_test.mm10.fa | wc -l"
   ]
  },
  {
   "cell_type": "markdown",
   "id": "ab935df4-1f43-4d04-8464-d1943944cadb",
   "metadata": {},
   "source": [
    "# GkmExplain"
   ]
  },
  {
   "cell_type": "markdown",
   "id": "c06743ba-f178-42cb-a53c-1d9a459fa015",
   "metadata": {},
   "source": [
    "- Interpret model by running GkmExplain on:\n",
    "    - posititve test set\n",
    "    - chicken heart-only enhancer"
   ]
  },
  {
   "cell_type": "code",
   "execution_count": null,
   "id": "068fd605-17dc-4e12-88ec-c612e73c9949",
   "metadata": {
    "tags": []
   },
   "outputs": [],
   "source": [
    "%%bash\n",
    "\n",
    "HERE=\"/project/MDL_Ibrahim/MP_all/paper\"\n",
    "FASTA=$HERE/data/svm/fasta\n",
    "MODEL=$HERE/data/svm/lsgkm_wrbf_c10_g2.model.txt\n",
    "OUT=$HERE/data/svm/scores\n",
    "\n",
    "EXPLAIN=$HERE/code/dev/gkmexplain/lsgkm-svr/scripts/parallelize_gkmexplain.sh\n",
    "\n",
    "$EXPLAIN $FASTA/pos_set_filtered_500bp_test.mm10.fa 58 29 $MODEL $OUT"
   ]
  },
  {
   "cell_type": "code",
   "execution_count": 22,
   "id": "0a045cc2-8866-4f99-a498-02a57a8c99b2",
   "metadata": {
    "execution": {
     "iopub.execute_input": "2024-02-12T09:53:58.081728Z",
     "iopub.status.busy": "2024-02-12T09:53:58.080978Z",
     "iopub.status.idle": "2024-02-12T09:53:58.721813Z",
     "shell.execute_reply": "2024-02-12T09:53:58.720261Z",
     "shell.execute_reply.started": "2024-02-12T09:53:58.081673Z"
    }
   },
   "outputs": [
    {
     "name": "stdout",
     "output_type": "stream",
     "text": [
      "     6804 ../data/svm/scores/heart_union_enhancer_pos.galGal6.hypscore.txt\n",
      "     9686 ../data/svm/scores/pos_set_filtered_500bp_test.mm10.hypscore.txt\n",
      "      100 ../data/svm/scores/pos_test_100.hypscore.txt\n",
      "    16590 total\n"
     ]
    }
   ],
   "source": [
    "! wc -l ../data/svm/scores/*"
   ]
  },
  {
   "cell_type": "markdown",
   "id": "1a0ba409-91c2-47d9-992b-bf0c9d188c5b",
   "metadata": {},
   "source": [
    "# TFMoDisco"
   ]
  },
  {
   "cell_type": "markdown",
   "id": "4af3cb80-d73d-403e-a462-0069f9c5ec9e",
   "metadata": {},
   "source": [
    "## Functions"
   ]
  },
  {
   "cell_type": "code",
   "execution_count": null,
   "id": "7bd0c94d-fe36-43f6-a12a-abf4b967b511",
   "metadata": {
    "execution": {
     "iopub.execute_input": "2024-02-13T11:41:28.661023Z",
     "iopub.status.busy": "2024-02-13T11:41:28.660056Z",
     "iopub.status.idle": "2024-02-13T11:41:29.398617Z",
     "shell.execute_reply": "2024-02-13T11:41:29.396725Z",
     "shell.execute_reply.started": "2024-02-13T11:41:28.660955Z"
    }
   },
   "outputs": [],
   "source": [
    "import numpy as np\n",
    "import os \n",
    "\n",
    "def get_basename(path):\n",
    "    out = os.path.basename(os.path.splitext(path)[0])\n",
    "    return out\n",
    "\n",
    "def find_invalid_shapes(array_list, expected_shape):\n",
    "    invalid_indices = []\n",
    "    \n",
    "    for idx, array in enumerate(array_list):\n",
    "        if array.shape != expected_shape:\n",
    "            invalid_indices.append(idx)\n",
    "    \n",
    "    return invalid_indices"
   ]
  },
  {
   "cell_type": "code",
   "execution_count": null,
   "id": "7debd604-fa7a-4bce-b4e1-0aa51dff8176",
   "metadata": {
    "execution": {
     "iopub.execute_input": "2024-02-13T11:41:31.675168Z",
     "iopub.status.busy": "2024-02-13T11:41:31.673547Z",
     "iopub.status.idle": "2024-02-13T11:41:31.694126Z",
     "shell.execute_reply": "2024-02-13T11:41:31.692037Z",
     "shell.execute_reply.started": "2024-02-13T11:41:31.675094Z"
    },
    "tags": []
   },
   "outputs": [],
   "source": [
    "## original function from \n",
    "# rewrite to adjust shape of array to (4, len) vs (len, 4) \n",
    "\n",
    "def seq_to_one_hot_fill_in_array(zeros_array, sequence, one_hot_axis):\n",
    "    assert one_hot_axis==0 or one_hot_axis==1\n",
    "    if (one_hot_axis==0):\n",
    "        assert zeros_array.shape[1] == len(sequence)\n",
    "    elif (one_hot_axis==1): \n",
    "        assert zeros_array.shape[0] == len(sequence)\n",
    "    #will mutate zeros_array\n",
    "    for (i,char) in enumerate(sequence):\n",
    "        if (char==\"A\" or char==\"a\"):\n",
    "            char_idx = 0\n",
    "        elif (char==\"C\" or char==\"c\"):\n",
    "            char_idx = 1\n",
    "        elif (char==\"G\" or char==\"g\"):\n",
    "            char_idx = 2\n",
    "        elif (char==\"T\" or char==\"t\"):\n",
    "            char_idx = 3\n",
    "        elif (char==\"N\" or char==\"n\"):\n",
    "            continue #leave that pos as all 0's\n",
    "        else:\n",
    "            raise RuntimeError(\"Unsupported character: \"+str(char))\n",
    "        if (one_hot_axis==0):\n",
    "            zeros_array[char_idx,i] = 1\n",
    "        elif (one_hot_axis==1):\n",
    "            zeros_array[i,char_idx] = 1\n",
    "            \n",
    "def one_hot_encode_along_channel_axis(sequence):\n",
    "    to_return = np.zeros((4, len(sequence)), dtype=np.int8)\n",
    "    seq_to_one_hot_fill_in_array(zeros_array=to_return,\n",
    "                                 sequence=sequence, one_hot_axis=0)\n",
    "    return to_return"
   ]
  },
  {
   "cell_type": "code",
   "execution_count": null,
   "id": "bc5e673e-81c0-4a95-aa13-88ed1bf27636",
   "metadata": {
    "execution": {
     "iopub.execute_input": "2024-02-13T11:41:33.295852Z",
     "iopub.status.busy": "2024-02-13T11:41:33.294619Z",
     "iopub.status.idle": "2024-02-13T11:41:33.320263Z",
     "shell.execute_reply": "2024-02-13T11:41:33.318815Z",
     "shell.execute_reply.started": "2024-02-13T11:41:33.295791Z"
    },
    "tags": []
   },
   "outputs": [],
   "source": [
    "def normalize_scores(impscores, hyp_impscores, onehot_data):\n",
    "  #normalize the hyp scores such that, at each position, hypothetical importance\n",
    "  # scores that have the same sign as the original importance score all sum\n",
    "  # up to the original importance score value. The rationale is that if\n",
    "  # multiple different bases at a position could produce a similar score,\n",
    "  # the specific identity of each individual base is less important.\n",
    "  #Empirically, hypothetical scores like these appear to work better for\n",
    "  # motif discovery. Using normalized importance scores derived by taking\n",
    "  # the elementwise product of the normalized hypothetical scores and\n",
    "  # the one-hot encoding also seems to reduce noise.\n",
    "  normed_hyp_impscores = []\n",
    "  normed_impscores = []\n",
    "  for i in range(len(impscores)):\n",
    "      imp_score_each_pos = np.sum(impscores[i],axis=-1)\n",
    "      imp_score_sign_each_pos = np.sign(imp_score_each_pos)\n",
    "      hyp_scores_same_sign_mask = (np.sign(hyp_impscores[i])\n",
    "                                   *imp_score_sign_each_pos[:,None] > 0)\n",
    "      hyp_scores_same_sign_imp_scores_sum = np.sum(\n",
    "          hyp_impscores[i]*hyp_scores_same_sign_mask,axis=-1)\n",
    "      ##!!! with repeats, some impscore = 0 after ohe element-wise multiplication\n",
    "      ## --> solution: add pseudo count before calculate norm ratio\n",
    "      hyp_scores_same_sign_imp_scores_sum[hyp_scores_same_sign_imp_scores_sum == 0] = 1e-10\n",
    "      \n",
    "      norm_ratio = imp_score_each_pos/hyp_scores_same_sign_imp_scores_sum\n",
    "      norm_hyp = hyp_impscores[i]*norm_ratio[:,None]\n",
    "      normed_hyp_impscores.append(norm_hyp)\n",
    "      normed_impscores.append(norm_hyp*onehot_data[i])\n",
    "  return normed_impscores, normed_hyp_impscores"
   ]
  },
  {
   "cell_type": "code",
   "execution_count": null,
   "id": "2b56f405-e6fa-4db1-bf7f-f93554fd7245",
   "metadata": {
    "execution": {
     "iopub.execute_input": "2024-02-13T11:41:33.295852Z",
     "iopub.status.busy": "2024-02-13T11:41:33.294619Z",
     "iopub.status.idle": "2024-02-13T11:41:33.320263Z",
     "shell.execute_reply": "2024-02-13T11:41:33.318815Z",
     "shell.execute_reply.started": "2024-02-13T11:41:33.295791Z"
    },
    "tags": []
   },
   "outputs": [],
   "source": [
    "def get_MoLite_inputs(score_file, fasta_file, out=None, out_npz=True):\n",
    "    ##some lines from score files have issues, remove those\n",
    "    idx_to_delete= [i for i,x in enumerate(open(score_file)) if len(x.rstrip().split(\"\\t\")) < 3]\n",
    "    # read in seq\n",
    "    seq=[x.rstrip() \n",
    "         for i,x in enumerate(open(fasta_file)) if i%2==1]\n",
    "    # one-hot encode seq\n",
    "    ohe=[np.array(one_hot_encode_along_channel_axis(x)) \n",
    "                for x in seq if ('N' not in x)] # shape (4,len(seq))\n",
    "    # remove seq without score from ohe\n",
    "    ohe = [ohe[i] for i in range(len(ohe)) if i not in idx_to_delete]\n",
    "    \n",
    "    ## parse calculated attribute score from lsgkm model and transpose to match array shape\n",
    "    hypscore=[w[0].T for w in zip([\n",
    "    np.array( [[float(z) for z in y.split(\",\")]\n",
    "                for y in x.rstrip().split(\"\\t\")[2].split(\";\")])\n",
    "    for x in open(score_file) if len(x.rstrip().split(\"\\t\")) >= 3],seq) if 'N' not in w[1]]\n",
    "    \n",
    "    # some scores are of the wrong shape, i.e. not all 500bp were scored, remove from seq & score\n",
    "    score_idx_rm = find_invalid_shapes(hypscore, (4,500))\n",
    "    \n",
    "    ohe = [ohe[i] for i in range(len(ohe)) if i not in score_idx_rm]\n",
    "    hypscore = [hypscore[i] for i in range(len(hypscore)) if i not in score_idx_rm]\n",
    "    \n",
    "    # compute importance score\n",
    "    impscore=[x * y for x,y in zip(hypscore, ohe)]\n",
    "    # sanity check\n",
    "    assert (np.max([np.max(np.abs(z*y - x))for x,y,z in zip(impscore,ohe,hypscore)]))==0\n",
    "    norm_impscore, norm_hypscore = normalize_scores(impscore, hypscore, ohe)\n",
    "    #save as npz \n",
    "    if (out_npz):\n",
    "        filename = get_basename(fasta_file)\n",
    "        np.savez_compressed(os.path.join(out, filename + str('_hypscore')), arr_0=norm_hypscore)\n",
    "        np.savez_compressed(os.path.join(out, filename + str('_seq')), arr_0=ohe)\n",
    "    else:\n",
    "        return norm_impscore, norm_hypscore"
   ]
  },
  {
   "cell_type": "markdown",
   "id": "e42aea0d-d4f4-49d3-a29a-13117a8fad93",
   "metadata": {},
   "source": [
    "## Prepare inputs for TFMoDisco"
   ]
  },
  {
   "cell_type": "code",
   "execution_count": 11,
   "id": "382a0bdd-9294-458a-b2b8-7b59c5e05201",
   "metadata": {
    "execution": {
     "iopub.execute_input": "2024-02-13T11:41:35.235386Z",
     "iopub.status.busy": "2024-02-13T11:41:35.234677Z",
     "iopub.status.idle": "2024-02-13T11:41:55.939072Z",
     "shell.execute_reply": "2024-02-13T11:41:55.937874Z",
     "shell.execute_reply.started": "2024-02-13T11:41:35.235333Z"
    },
    "tags": []
   },
   "outputs": [],
   "source": [
    "get_MoLite_inputs(score_file = '../data/svm/scores/pos_set_filtered_500bp_test.mm10.hypscore.txt',\n",
    "                  fasta_file = '../data/svm/fasta/pos_set_filtered_500bp_test.mm10.fa',\n",
    "                  out = '../data/svm/npz')"
   ]
  },
  {
   "cell_type": "code",
   "execution_count": 13,
   "id": "d8ea276c-8fd7-4ddf-b5c4-f9bcbcfeb4ec",
   "metadata": {
    "execution": {
     "iopub.execute_input": "2024-02-13T11:44:44.036064Z",
     "iopub.status.busy": "2024-02-13T11:44:44.035480Z",
     "iopub.status.idle": "2024-02-13T11:45:19.199621Z",
     "shell.execute_reply": "2024-02-13T11:45:19.198632Z",
     "shell.execute_reply.started": "2024-02-13T11:44:44.036027Z"
    }
   },
   "outputs": [],
   "source": [
    "get_MoLite_inputs(score_file = '../data/svm/scores/heart_union_enhancer_pos.galGal6.hypscore.txt',\n",
    "                  fasta_file = '../data/svm/fasta/heart_union_enhancer_pos.galGal6.fa',\n",
    "                  out = '../data/svm/npz')"
   ]
  },
  {
   "cell_type": "markdown",
   "id": "797e8f27-d57b-486c-a62d-6c00c756fdb9",
   "metadata": {},
   "source": [
    "double check shape of inputs"
   ]
  },
  {
   "cell_type": "code",
   "execution_count": 12,
   "id": "716519e6-5b52-4e6b-b90a-a7f707095c33",
   "metadata": {
    "execution": {
     "iopub.execute_input": "2024-02-13T11:43:56.625343Z",
     "iopub.status.busy": "2024-02-13T11:43:56.624577Z",
     "iopub.status.idle": "2024-02-13T11:43:57.659081Z",
     "shell.execute_reply": "2024-02-13T11:43:57.657927Z",
     "shell.execute_reply.started": "2024-02-13T11:43:56.625290Z"
    }
   },
   "outputs": [
    {
     "name": "stdout",
     "output_type": "stream",
     "text": [
      "The shape of the attribution scores is (9626, 4, 500)\n",
      "The shape of the one-hot encoding is (9626, 4, 500)\n"
     ]
    }
   ],
   "source": [
    "score=np.load('../data/svm/npz/pos_set_filtered_500bp_test.mm10_hypscore.npz', allow_pickle=True)\n",
    "ohe=np.load('../data/svm/npz/pos_set_filtered_500bp_test.mm10_seq.npz', allow_pickle=True)\n",
    "\n",
    "for key in score.files:\n",
    "    print(f\"The shape of the attribution scores is {score[key].shape}\")\n",
    "\n",
    "for key in ohe.files:\n",
    "    print(f\"The shape of the one-hot encoding is {ohe[key].shape}\")"
   ]
  },
  {
   "cell_type": "markdown",
   "id": "a52b12d6-fd1d-4c65-ba4a-0f33bf4d3f96",
   "metadata": {},
   "source": [
    "## Run MoDisco"
   ]
  },
  {
   "cell_type": "code",
   "execution_count": 17,
   "id": "b4a82d78-d6ff-4fe3-b2ff-1aca6aa1be39",
   "metadata": {
    "execution": {
     "iopub.execute_input": "2024-02-13T12:56:47.997174Z",
     "iopub.status.busy": "2024-02-13T12:56:47.996654Z",
     "iopub.status.idle": "2024-02-13T13:11:51.829423Z",
     "shell.execute_reply": "2024-02-13T13:11:51.827980Z",
     "shell.execute_reply.started": "2024-02-13T12:56:47.997135Z"
    },
    "tags": []
   },
   "outputs": [],
   "source": [
    "%%bash\n",
    "\n",
    "HERE=$(realpath ..)\n",
    "NPZ=$HERE/data/svm/npz\n",
    "MODIR=$HERE/data/svm/modisco\n",
    "JASPAR=$HERE/_data/references/motifs/filtered_JASPAR_300TFs.meme\n",
    "\n",
    "modisco motifs \\\n",
    "-s $NPZ/pos_set_filtered_500bp_test.mm10_seq.npz \\\n",
    "-a $NPZ/pos_set_filtered_500bp_test.mm10_hypscore.npz \\\n",
    "-n 1000 \\\n",
    "-w 500 \\\n",
    "-o $MODIR/pos_test_mm10_max1000seqlet_results.h5\n",
    "\n",
    "modisco report \\\n",
    "-i $MODIR/pos_test_mm10_max1000seqlet_results.h5 \\\n",
    "-o $MODIR/pos_test_mm10_max1000seqlet \\\n",
    "-m $JASPAR\n",
    "\n",
    "modisco motifs \\\n",
    "-s $NPZ/pos_set_filtered_500bp_test.mm10_seq.npz \\\n",
    "-a $NPZ/pos_set_filtered_500bp_test.mm10_hypscore.npz \\\n",
    "-n 500 \\\n",
    "-w 500 \\\n",
    "-o $MODIR/pos_test_mm10_max500seqlet_results.h5\n",
    "\n",
    "modisco report \\\n",
    "-i $MODIR/pos_test_mm10_max500seqlet_results.h5 \\\n",
    "-o $MODIR/pos_test_mm10_max500seqlet \\\n",
    "-m $JASPAR\n",
    "\n",
    "modisco motifs \\\n",
    "-s $NPZ/pos_set_filtered_500bp_test.mm10_seq.npz \\\n",
    "-a $NPZ/pos_set_filtered_500bp_test.mm10_hypscore.npz \\\n",
    "-n 2000 \\\n",
    "-w 500 \\\n",
    "-o $MODIR/pos_test_mm10_max2000seqlet_results.h5\n",
    "\n",
    "modisco report \\\n",
    "-i $MODIR/pos_test_mm10_max2000seqlet_results.h5 \\\n",
    "-o $MODIR/pos_test_mm10_max2000seqlet \\\n",
    "# -m $JASPAR\n",
    "\n",
    "modisco motifs \\\n",
    "-s $NPZ/heart_union_enhancer_pos.galGal6_seq.npz \\\n",
    "-a $NPZ/heart_union_enhancer_pos.galGal6_hypscore.npz \\\n",
    "-n 2000 \\\n",
    "-w 500 \\\n",
    "-o $MODIR/heart_union_enhancer_galGal6_max2k_results.h5\n",
    "\n",
    "modisco report \\\n",
    "-i $MODIR/heart_union_enhancer_galGal6_max2k_results.h5 \\\n",
    "-o $MODIR/heart_union_enhancer_galGal6_max2k \\\n",
    "-m $JASPAR\n",
    "\n",
    "modisco motifs \\\n",
    "-s $NPZ/heart_union_enhancer_pos.galGal6_seq.npz \\\n",
    "-a $NPZ/heart_union_enhancer_pos.galGal6_hypscore.npz \\\n",
    "-n 3000 \\\n",
    "-w 500 \\\n",
    "-o $MODIR/heart_union_enhancer_galGal6_max3k_results.h5\n",
    "\n",
    "modisco report \\\n",
    "-i $MODIR/heart_union_enhancer_galGal6_max3k_results.h5 \\\n",
    "-o $MODIR/heart_union_enhancer_galGal6_max3k \\\n",
    "-m $JASPAR"
   ]
  },
  {
   "cell_type": "markdown",
   "id": "1b1d4a97-10d9-40b9-bddc-483ca2b3e63a",
   "metadata": {},
   "source": [
    "## Merge Mo output"
   ]
  },
  {
   "cell_type": "code",
   "execution_count": 20,
   "id": "e4193043-560e-45d1-a2ff-fa57fa595d5e",
   "metadata": {
    "execution": {
     "iopub.execute_input": "2024-02-13T13:49:05.614188Z",
     "iopub.status.busy": "2024-02-13T13:49:05.612969Z",
     "iopub.status.idle": "2024-02-13T13:49:05.761767Z",
     "shell.execute_reply": "2024-02-13T13:49:05.760279Z",
     "shell.execute_reply.started": "2024-02-13T13:49:05.614135Z"
    }
   },
   "outputs": [],
   "source": [
    "%matplotlib inline\n",
    "import numpy as np\n",
    "import h5py as h5\n",
    "import modiscolite\n",
    "from modiscolite.aggregator import SimilarPatternsCollapser\n",
    "from modiscolite.core import TrackSet, Seqlet, SeqletSet\n",
    "from matplotlib import pyplot as plt\n",
    "from modisco.visualization import viz_sequence\n",
    "from modiscolite.io import save_hdf5\n",
    "import os"
   ]
  },
  {
   "cell_type": "code",
   "execution_count": 22,
   "id": "8c2b8cf2-f198-40e6-ad7f-565195045669",
   "metadata": {
    "execution": {
     "iopub.execute_input": "2024-02-13T13:51:52.752191Z",
     "iopub.status.busy": "2024-02-13T13:51:52.751206Z",
     "iopub.status.idle": "2024-02-13T13:53:25.688258Z",
     "shell.execute_reply": "2024-02-13T13:53:25.686350Z",
     "shell.execute_reply.started": "2024-02-13T13:51:52.752149Z"
    },
    "tags": []
   },
   "outputs": [
    {
     "name": "stdout",
     "output_type": "stream",
     "text": [
      "On file ../data/svm/modisco/heart_union_enhancer_galGal6_max3k_results.h5\n",
      "1271 indices had seqlets out of 15935\n",
      "On file ../data/svm/modisco/pos_test_mm10_max2000seqlet_results.h5\n",
      "846 indices had seqlets out of 9626\n",
      "Patterns to be merged:\n",
      "numseqlets: 596\n",
      "numseqlets: 231\n",
      "numseqlets: 95\n",
      "numseqlets: 84\n",
      "numseqlets: 77\n",
      "numseqlets: 41\n",
      "numseqlets: 27\n",
      "numseqlets: 24\n",
      "numseqlets: 231\n",
      "numseqlets: 179\n",
      "numseqlets: 167\n",
      "numseqlets: 166\n",
      "numseqlets: 165\n",
      "numseqlets: 146\n",
      "numseqlets: 145\n",
      "numseqlets: 113\n",
      "numseqlets: 234\n",
      "numseqlets: 212\n",
      "numseqlets: 56\n",
      "numseqlets: 53\n",
      "numseqlets: 53\n",
      "numseqlets: 49\n",
      "numseqlets: 48\n",
      "numseqlets: 43\n",
      "numseqlets: 40\n",
      "numseqlets: 33\n",
      "numseqlets: 24\n",
      "numseqlets: 150\n",
      "numseqlets: 136\n",
      "numseqlets: 117\n",
      "numseqlets: 98\n",
      "numseqlets: 86\n",
      "numseqlets: 65\n",
      "numseqlets: 65\n",
      "numseqlets: 57\n"
     ]
    }
   ],
   "source": [
    "#provide the list of modisco_results files to be merged, along with their\n",
    "# corresponding one-hot encodings and hypothetical importance scores.\n",
    "\n",
    "merge_list = [\n",
    "    (\"../data/svm/modisco/heart_union_enhancer_galGal6_max3k_results.h5\",\n",
    "     \"../data/svm/npz/heart_union_enhancer_pos.galGal6_seq.npz\", \n",
    "     \"../data/svm/npz/heart_union_enhancer_pos.galGal6_hypscore.npz\"),\n",
    "    (\"../data/svm/modisco/pos_test_mm10_max2000seqlet_results.h5\", \n",
    "     \"../data/svm/npz/pos_set_filtered_500bp_test.mm10_seq.npz\", \n",
    "     \"../data/svm/npz/pos_set_filtered_500bp_test.mm10_hypscore.npz\")\n",
    "]\n",
    "\n",
    "#hyperparameters for merging - these are set\n",
    "# to the defaults in tfmodisco-lite\n",
    "min_overlap = 0.7\n",
    "prob_and_pertrack_sim_merge_thresholds = [(0.8,0.8), (0.5, 0.85), (0.2, 0.9)]\n",
    "prob_and_pertrack_sim_dealbreaker_thresholds = [(0.4, 0.75), (0.2,0.8), (0.1, 0.85), (0.0,0.9)]\n",
    "min_frac = 0.2 # also called frac_support_to_trim_to\n",
    "min_num = 30 # also called min_num_to_trim_to\n",
    "flank_to_add = 5 # also called initial_flank_to_add\n",
    "window_size = 20 # also called trim_to_window_size\n",
    "max_seqlets_subsample = 300 # also called merging_max_seqlets_subsample\n",
    "\n",
    "pattern_group = 'pos_patterns' #pos_patterns or neg_patterns\n",
    "\n",
    "union_onehot = []\n",
    "union_hypscores = []\n",
    "union_patterncoords = []\n",
    "\n",
    "exampleidx_offset = 0 #incremented after each modisco results file\n",
    "for (results_file, onehot_file, hypscores_file) in merge_list:\n",
    "\n",
    "  print(\"On file \"+results_file)\n",
    "\n",
    "  results_fh = h5.File(results_file)\n",
    "  onehot = (np.load(onehot_file)[\"arr_0\"]).transpose(0,2,1)\n",
    "  hypscores = (np.load(hypscores_file)[\"arr_0\"]).transpose(0,2,1)\n",
    "\n",
    "  allpattern_exampleidxs = []\n",
    "  #first, iterate through the patterns and get all the example indices\n",
    "  # (Note: \"example_idx\" refers to the index of the sequence that contained\n",
    "  #  the seqlet)\n",
    "  for pattern_name in results_fh[pattern_group].keys():\n",
    "    seqlets_grp = results_fh[pattern_group][pattern_name]['seqlets']\n",
    "    allpattern_exampleidxs.extend(np.array(seqlets_grp['example_idx']))\n",
    "    \n",
    "  #figure out the subset of indices that actually have seqlets, sort it.\n",
    "  surviving_indices = sorted(list(set(allpattern_exampleidxs)))\n",
    "  print(str(len(surviving_indices))+\" indices had seqlets out of \"\n",
    "        +str(len(onehot)))\n",
    "  #add the scores for the subset of sequences that have scores to the\n",
    "  # 'union' list.\n",
    "  for idx in surviving_indices:\n",
    "    union_onehot.append(onehot[idx])\n",
    "    union_hypscores.append(hypscores[idx])\n",
    "  \n",
    "  #create an index remapping based on the subset of surviving indices\n",
    "  # (we will add exampleidx_offset later)\n",
    "  idx_remapping = dict(zip(surviving_indices,\n",
    "                           np.arange(len(surviving_indices))))\n",
    "  \n",
    "  #Now iterate through the patterns again and prep the seqlet coordinates,\n",
    "  # remapping the example indices as needed.\n",
    "  #We also add in exampleidx_offset to account for all the previous seqeuences\n",
    "  # that have already been added to the 'union' lists\n",
    "  for pattern_name in results_fh[pattern_group].keys():\n",
    "    seqlets_grp = results_fh[pattern_group][pattern_name]['seqlets']\n",
    "    pattern_exampleidxs = np.array(seqlets_grp['example_idx'])\n",
    "    #remap the example idxs\n",
    "    pattern_remapped_exampleidxs = np.array([\n",
    "        (exampleidx_offset+idx_remapping[idx]) for idx in pattern_exampleidxs])\n",
    "    pattern_start = np.array(seqlets_grp['start'])\n",
    "    pattern_end = np.array(seqlets_grp['end'])\n",
    "    pattern_isrevcomp = np.array(seqlets_grp['is_revcomp'])\n",
    "    union_patterncoords.append((pattern_remapped_exampleidxs,\n",
    "                                pattern_start, pattern_end, pattern_isrevcomp))\n",
    "  #increment exampleidx_offset\n",
    "  exampleidx_offset = (exampleidx_offset + len(surviving_indices))\n",
    "  results_fh.close()\n",
    "\n",
    "#create the trackset object\n",
    "union_onehot = np.array(union_onehot)\n",
    "union_hypscores = np.array(union_hypscores)\n",
    "track_set = TrackSet(one_hot=union_onehot,\n",
    "                     contrib_scores=union_onehot*union_hypscores,\n",
    "                     hypothetical_contribs=union_hypscores)\n",
    "\n",
    "#Create pattern objects using the new track_set and modified coordinates\n",
    "print(\"Patterns to be merged:\")\n",
    "all_patterns = []\n",
    "for (example_idxs, starts, ends, isrevcomps) in union_patterncoords:\n",
    "  #tfmlite reuses the same object for representing seqlet\n",
    "  # coordinates as well as seqlets\n",
    "  seqlet_coords = [Seqlet(example_idx, start, end, isrevcomp) for\n",
    "                   (example_idx, start, end, isrevcomp) in zip(\n",
    "                   example_idxs, starts, ends, isrevcomps)]\n",
    "  seqlets = track_set.create_seqlets(seqlet_coords)\n",
    "  pattern = SeqletSet(seqlets) #SeqletSet in tfm lite = AggregatedSeqlet in tfm\n",
    "  all_patterns.append(pattern)\n",
    "  print(\"numseqlets:\",len(pattern.seqlets))\n",
    "  #viz_sequence.plot_weights(pattern.contrib_scores)\n",
    "\n",
    "#bg_freq is used for identifying the region within a merged motif of\n",
    "# highest information content and then expanding around that region.\n",
    "bg_freq = np.mean(union_onehot, axis=(0, 1))\n",
    "\n",
    "#Do the merging\n",
    "merged_patterns, pattern_merge_hierarchy = SimilarPatternsCollapser(\n",
    "    patterns=all_patterns,\n",
    "    track_set=track_set,\n",
    "    min_overlap=min_overlap,\n",
    "    prob_and_pertrack_sim_merge_thresholds=prob_and_pertrack_sim_merge_thresholds,\n",
    "\t  prob_and_pertrack_sim_dealbreaker_thresholds=prob_and_pertrack_sim_dealbreaker_thresholds,\n",
    "\t  min_frac=min_frac,\n",
    "    min_num=min_num,\n",
    "    flank_to_add=flank_to_add,\n",
    "    window_size=window_size,\n",
    "    bg_freq=bg_freq,\n",
    "\t  max_seqlets_subsample=max_seqlets_subsample)\n",
    "\n",
    "#print(\"Merged patterns:\")\n",
    "\n",
    "# for pattern in merged_patterns:\n",
    "#   print(\"numseqlets:\",len(pattern.seqlets))\n",
    "#   viz_sequence.plot_weights(pattern.contrib_scores)\n",
    "\n",
    "save_hdf5('../data/svm/modisco/merged_mmus-pos-test_ggal-heart-enh_results.h5', \n",
    "          pos_patterns= merged_patterns, neg_patterns=None)"
   ]
  },
  {
   "cell_type": "markdown",
   "id": "066beaa9-9b22-4a24-bfec-4bf96398f44f",
   "metadata": {},
   "source": [
    "## Generate MEME from Mo output"
   ]
  },
  {
   "cell_type": "code",
   "execution_count": 23,
   "id": "e5383c12-c12e-4dc3-a098-fde693017bf2",
   "metadata": {
    "execution": {
     "iopub.execute_input": "2024-02-13T14:06:27.296936Z",
     "iopub.status.busy": "2024-02-13T14:06:27.296170Z",
     "iopub.status.idle": "2024-02-13T14:06:42.909683Z",
     "shell.execute_reply": "2024-02-13T14:06:42.907482Z",
     "shell.execute_reply.started": "2024-02-13T14:06:27.296886Z"
    }
   },
   "outputs": [],
   "source": [
    "%%bash\n",
    "\n",
    "HERE=$(realpath ..)\n",
    "\n",
    "MODIR=$HERE/data/svm/modisco\n",
    "JASPAR=$HERE/_data/references/motifs/filtered_JASPAR_300TFs.meme\n",
    "\n",
    "modisco meme \\\n",
    "-i $MODIR/merged_mmus-pos-test_ggal-heart-enh_results.h5 \\\n",
    "-t PFM \\\n",
    "-o $MODIR/merged_mmus-pos-test_ggal-heart-enh.PFM.meme\n",
    "\n",
    "modisco meme \\\n",
    "-i $MODIR/heart_union_enhancer_galGal6_max3k_results.h5 \\\n",
    "-t PFM \\\n",
    "-o $MODIR/heart_union_enhancer_galGal6_max3k.PFM.meme\n",
    "\n",
    "modisco meme \\\n",
    "-i $MODIR/pos_test_mm10_max2000seqlet_results.h5 \\\n",
    "-t PFM \\\n",
    "-o $MODIR/pos_test_mm10_max2000seqlet.PFM.meme"
   ]
  },
  {
   "cell_type": "code",
   "execution_count": 1,
   "id": "5ef0a259-e121-41c7-8dcf-7f2cec08bbc5",
   "metadata": {
    "execution": {
     "iopub.execute_input": "2024-02-16T11:48:29.581530Z",
     "iopub.status.busy": "2024-02-16T11:48:29.580858Z",
     "iopub.status.idle": "2024-02-16T11:48:47.169762Z",
     "shell.execute_reply": "2024-02-16T11:48:47.168154Z",
     "shell.execute_reply.started": "2024-02-16T11:48:29.581393Z"
    }
   },
   "outputs": [],
   "source": [
    "%%bash\n",
    "\n",
    "HERE=$(realpath ..)\n",
    "\n",
    "MODIR=$HERE/data/svm/modisco\n",
    "JASPAR=$HERE/_data/references/motifs/filtered_JASPAR_300TFs.meme\n",
    "\n",
    "modisco meme \\\n",
    "-i $MODIR/merged_mmus-pos-test_ggal-heart-enh_results.h5 \\\n",
    "-t CWM-PFM \\\n",
    "-o $MODIR/merged_mmus-pos-test_ggal-heart-enh.CWM-PFM.meme\n",
    "\n",
    "modisco meme \\\n",
    "-i $MODIR/heart_union_enhancer_galGal6_max3k_results.h5 \\\n",
    "-t CWM-PFM \\\n",
    "-o $MODIR/heart_union_enhancer_galGal6_max3k.CWM-PFM.meme\n",
    "\n",
    "modisco meme \\\n",
    "-i $MODIR/pos_test_mm10_max2000seqlet_results.h5 \\\n",
    "-t CWM-PFM \\\n",
    "-o $MODIR/pos_test_mm10_max2000seqlet.CWM-PFM.meme"
   ]
  },
  {
   "cell_type": "code",
   "execution_count": 2,
   "id": "4e1ce7eb-4663-45b6-ac56-884ade89ad5b",
   "metadata": {
    "execution": {
     "iopub.execute_input": "2024-02-16T13:00:25.522822Z",
     "iopub.status.busy": "2024-02-16T13:00:25.522233Z",
     "iopub.status.idle": "2024-02-16T13:02:03.880013Z",
     "shell.execute_reply": "2024-02-16T13:02:03.878328Z",
     "shell.execute_reply.started": "2024-02-16T13:00:25.522762Z"
    }
   },
   "outputs": [],
   "source": [
    "%%bash\n",
    "\n",
    "HERE=$(realpath ..)\n",
    "\n",
    "MODIR=$HERE/data/svm/modisco\n",
    "JASPAR=$HERE/_data/references/motifs/filtered_JASPAR_300TFs.meme\n",
    "\n",
    "modisco report \\\n",
    "-i $MODIR/merged_mmus-pos-test_ggal-heart-enh_results.h5 \\\n",
    "-o $MODIR/merged_mmus-pos-test_ggal-heart-enh \\\n",
    "-m $JASPAR"
   ]
  },
  {
   "cell_type": "code",
   "execution_count": null,
   "id": "e4bc57dd-47e1-466b-8d78-a2699a326b97",
   "metadata": {},
   "outputs": [],
   "source": []
  }
 ],
 "metadata": {
  "kernelspec": {
   "display_name": "Python 3 (ipykernel)",
   "language": "python",
   "name": "python3"
  },
  "language_info": {
   "codemirror_mode": {
    "name": "ipython",
    "version": 3
   },
   "file_extension": ".py",
   "mimetype": "text/x-python",
   "name": "python",
   "nbconvert_exporter": "python",
   "pygments_lexer": "ipython3",
   "version": "3.9.10"
  }
 },
 "nbformat": 4,
 "nbformat_minor": 5
}
